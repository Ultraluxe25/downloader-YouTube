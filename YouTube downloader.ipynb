{
 "cells": [
  {
   "cell_type": "code",
   "execution_count": 1,
   "id": "7a6d4936",
   "metadata": {},
   "outputs": [
    {
     "name": "stdout",
     "output_type": "stream",
     "text": [
      "Requirement already satisfied: pytube in c:\\python310\\lib\\site-packages (12.1.2)\n"
     ]
    },
    {
     "name": "stderr",
     "output_type": "stream",
     "text": [
      "\n",
      "[notice] A new release of pip available: 22.3 -> 23.0\n",
      "[notice] To update, run: python.exe -m pip install --upgrade pip\n"
     ]
    }
   ],
   "source": [
    "!pip install pytube"
   ]
  },
  {
   "cell_type": "code",
   "execution_count": 1,
   "id": "07ff0efb",
   "metadata": {},
   "outputs": [
    {
     "name": "stdout",
     "output_type": "stream",
     "text": [
      "Введите URL плейлиста, который Вы хотите скачать\n",
      "https://www.youtube.com/playlist?list=PL5-da3qGB5ICeMbQuqbbCOQWcS6OYBr5A\n",
      "Скачивается плейлист: Machine learning in Python with scikit-learn\n",
      "\n",
      "What is machine learning, and how does it work? начинает скачиваться\n",
      "Setting up Python for machine learning: scikit-learn and Jupyter Notebook начинает скачиваться\n",
      "Getting started in scikit-learn with the famous iris dataset начинает скачиваться\n",
      "Training a machine learning model with scikit-learn начинает скачиваться\n",
      "Comparing machine learning models in scikit-learn начинает скачиваться\n",
      "Data science in Python: pandas, seaborn, scikit-learn начинает скачиваться\n",
      "Selecting the best model in scikit-learn using cross-validation начинает скачиваться\n",
      "How to find the best model parameters in scikit-learn начинает скачиваться\n",
      "How to evaluate a classifier in scikit-learn начинает скачиваться\n",
      "How do I encode categorical features using scikit-learn? начинает скачиваться\n",
      "Machine Learning with Text in scikit-learn (PyCon 2016) начинает скачиваться\n",
      "\n",
      "Не все видео скачаны\n",
      "\n"
     ]
    }
   ],
   "source": [
    "from pytube import Channel, Playlist, YouTube\n",
    "\n",
    "class Downloader:\n",
    "    pass\n",
    "\n",
    "# для скачивания видео\n",
    "# video = YouTube('https://www.youtube.com/watch?v=gFRa6qVN980&list=PLDyJYA6aTY1lPWXBPk0gw6gR8fEtPDGKa&index=18')\n",
    "# print(video.title)\n",
    "# video.streams.filter(res=\"720p\").first().download(output_path='E:\\\\Multimedia\\\\Cкачано с ютуба')\n",
    "# print('Видео успешно скачано!)')\n",
    "\n",
    "# для скачивания плейлиста\n",
    "print('Введите URL плейлиста, который Вы хотите скачать')\n",
    "while 'python':\n",
    "    try:\n",
    "        URL = input()\n",
    "        play_list = Playlist(URL)\n",
    "\n",
    "        print(f'Скачивается плейлист: {play_list.title}\\n')\n",
    "        result = 'all videos'\n",
    "        not_downloaded_videos = []\n",
    "\n",
    "        for video in play_list.videos:\n",
    "            result = '100%'\n",
    "\n",
    "            try:\n",
    "                video.streams.filter(res=\"720p\").first().download(output_path='E:\\\\Multimedia\\\\Cкачано с ютуба')\n",
    "                print(f'{video.title} начинает скачиваться')\n",
    "            except:\n",
    "                result = 'not all videos'\n",
    "                not_downloaded_videos.append(video.title)\n",
    "                continue\n",
    "\n",
    "        print()\n",
    "        print('Весь плейлист успешно скачан!)' if result == 'all videos' else 'Не все видео скачаны')\n",
    "\n",
    "        if len(not_downloaded_videos) > 0:\n",
    "            for title in not_downloaded_videos:\n",
    "                print(f'не скачано видео: {title}')\n",
    "\n",
    "        print()\n",
    "        break\n",
    "\n",
    "    except KeyError:\n",
    "        print('Вы не ввели URL. Попробуйте снова')"
   ]
  },
  {
   "cell_type": "code",
   "execution_count": null,
   "id": "5cfd868a",
   "metadata": {},
   "outputs": [],
   "source": []
  }
 ],
 "metadata": {
  "kernelspec": {
   "display_name": "Python 3 (ipykernel)",
   "language": "python",
   "name": "python3"
  },
  "language_info": {
   "codemirror_mode": {
    "name": "ipython",
    "version": 3
   },
   "file_extension": ".py",
   "mimetype": "text/x-python",
   "name": "python",
   "nbconvert_exporter": "python",
   "pygments_lexer": "ipython3",
   "version": "3.10.8"
  }
 },
 "nbformat": 4,
 "nbformat_minor": 5
}
